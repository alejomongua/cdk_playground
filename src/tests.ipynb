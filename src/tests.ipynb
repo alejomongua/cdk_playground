{
 "cells": [
  {
   "cell_type": "code",
   "execution_count": 1,
   "metadata": {},
   "outputs": [],
   "source": [
    "import boto3\n",
    "import tempfile"
   ]
  },
  {
   "cell_type": "code",
   "execution_count": 2,
   "metadata": {},
   "outputs": [],
   "source": [
    "region = 'us-east-1'\n",
    "cf_stack_name = 'Playground1Stack'"
   ]
  },
  {
   "cell_type": "code",
   "execution_count": 3,
   "metadata": {},
   "outputs": [],
   "source": [
    "# Get BucketName from CloudFormation Stack output\n",
    "def get_bucket_name(stack_name):\n",
    "    cf_client = boto3.client('cloudformation', region_name=region)\n",
    "    response = cf_client.describe_stacks(StackName=stack_name)\n",
    "    for output in response['Stacks'][0]['Outputs']:\n",
    "        if output['OutputKey'] == 'BucketName':\n",
    "            return output['OutputValue']\n",
    "\n",
    "    raise Exception('BucketName not found in CloudFormation Stack output')"
   ]
  },
  {
   "cell_type": "code",
   "execution_count": 4,
   "metadata": {},
   "outputs": [],
   "source": [
    "bucket_name = get_bucket_name(cf_stack_name)\n",
    "\n",
    "# Create S3 client\n",
    "s3 = boto3.client('s3', region_name=region)\n",
    "bucket = boto3.resource('s3').Bucket(bucket_name)"
   ]
  },
  {
   "cell_type": "code",
   "execution_count": 5,
   "metadata": {},
   "outputs": [],
   "source": [
    "# Upload a dummy object\n",
    "with tempfile.TemporaryFile() as tmp:\n",
    "    tmp.write(b'Hello, world!')\n",
    "    tmp.seek(0)\n",
    "    bucket.upload_fileobj(tmp, 'dummy.txt')"
   ]
  },
  {
   "cell_type": "code",
   "execution_count": 6,
   "metadata": {},
   "outputs": [
    {
     "name": "stdout",
     "output_type": "stream",
     "text": [
      "dummy.txt\n"
     ]
    }
   ],
   "source": [
    "# List objects in the bucket\n",
    "for obj in bucket.objects.all():\n",
    "    print(obj.key)"
   ]
  },
  {
   "cell_type": "code",
   "execution_count": null,
   "metadata": {},
   "outputs": [
    {
     "name": "stdout",
     "output_type": "stream",
     "text": [
      "Hello, world!\n"
     ]
    }
   ],
   "source": [
    "# Retrieve and print the content of the dummy object\n",
    "obj = bucket.Object('dummy.txt')\n",
    "print(obj.get()['Body'].read().decode('utf-8'))"
   ]
  },
  {
   "cell_type": "code",
   "execution_count": 8,
   "metadata": {},
   "outputs": [
    {
     "data": {
      "text/plain": [
       "{'ResponseMetadata': {'RequestId': '6NNQ3N87VB3G5QTV',\n",
       "  'HostId': 'IgmW32P09he74zDxTu0cJcDPjRmRbEDehraHj3c0qXb+YpdnMs5BZYQ/4/VE9pW+veKySLjgf9xpHMApKRxOrI0urUX01Y47wKwHaNQS3A4=',\n",
       "  'HTTPStatusCode': 204,\n",
       "  'HTTPHeaders': {'x-amz-id-2': 'IgmW32P09he74zDxTu0cJcDPjRmRbEDehraHj3c0qXb+YpdnMs5BZYQ/4/VE9pW+veKySLjgf9xpHMApKRxOrI0urUX01Y47wKwHaNQS3A4=',\n",
       "   'x-amz-request-id': '6NNQ3N87VB3G5QTV',\n",
       "   'date': 'Tue, 19 Nov 2024 22:04:36 GMT',\n",
       "   'server': 'AmazonS3'},\n",
       "  'RetryAttempts': 0}}"
      ]
     },
     "execution_count": 8,
     "metadata": {},
     "output_type": "execute_result"
    }
   ],
   "source": [
    "# Delete the dummy object\n",
    "obj.delete()"
   ]
  },
  {
   "cell_type": "code",
   "execution_count": 9,
   "metadata": {},
   "outputs": [],
   "source": [
    "# List objects in the bucket\n",
    "for obj in bucket.objects.all():\n",
    "    print(obj.key)"
   ]
  },
  {
   "cell_type": "code",
   "execution_count": 10,
   "metadata": {},
   "outputs": [],
   "source": [
    "dynamodb_table_prefix = 'Playground1Table-MyTable'\n",
    "\n",
    "# Create DynamoDB client\n",
    "dynamodb = boto3.client('dynamodb', region_name=region)"
   ]
  },
  {
   "cell_type": "code",
   "execution_count": 12,
   "metadata": {},
   "outputs": [
    {
     "ename": "ClientError",
     "evalue": "An error occurred (AccessDeniedException) when calling the ListTables operation: User: arn:aws:sts::404449475211:assumed-role/Playground1Stack-EC2InstanceRole0BAA8CDD-gijpoD4ZOqNC/i-0599c09eb6cd71ce6 is not authorized to perform: dynamodb:ListTables on resource: arn:aws:dynamodb:us-east-1:404449475211:table/* because no identity-based policy allows the dynamodb:ListTables action",
     "output_type": "error",
     "traceback": [
      "\u001b[0;31m---------------------------------------------------------------------------\u001b[0m",
      "\u001b[0;31mClientError\u001b[0m                               Traceback (most recent call last)",
      "Cell \u001b[0;32mIn[12], line 3\u001b[0m\n\u001b[1;32m      1\u001b[0m \u001b[38;5;66;03m# Find the table name\u001b[39;00m\n\u001b[1;32m      2\u001b[0m table_name \u001b[38;5;241m=\u001b[39m \u001b[38;5;28;01mNone\u001b[39;00m\n\u001b[0;32m----> 3\u001b[0m response \u001b[38;5;241m=\u001b[39m \u001b[43mdynamodb\u001b[49m\u001b[38;5;241;43m.\u001b[39;49m\u001b[43mlist_tables\u001b[49m\u001b[43m(\u001b[49m\u001b[43m)\u001b[49m\n\u001b[1;32m      4\u001b[0m \u001b[38;5;28;01mfor\u001b[39;00m tn \u001b[38;5;129;01min\u001b[39;00m response[\u001b[38;5;124m'\u001b[39m\u001b[38;5;124mTableNames\u001b[39m\u001b[38;5;124m'\u001b[39m]:\n\u001b[1;32m      5\u001b[0m     \u001b[38;5;28;01mif\u001b[39;00m tn\u001b[38;5;241m.\u001b[39mstartswith(dynamodb_table_prefix):\n",
      "File \u001b[0;32m~/.local/lib/python3.9/site-packages/botocore/client.py:569\u001b[0m, in \u001b[0;36mClientCreator._create_api_method.<locals>._api_call\u001b[0;34m(self, *args, **kwargs)\u001b[0m\n\u001b[1;32m    565\u001b[0m     \u001b[38;5;28;01mraise\u001b[39;00m \u001b[38;5;167;01mTypeError\u001b[39;00m(\n\u001b[1;32m    566\u001b[0m         \u001b[38;5;124mf\u001b[39m\u001b[38;5;124m\"\u001b[39m\u001b[38;5;132;01m{\u001b[39;00mpy_operation_name\u001b[38;5;132;01m}\u001b[39;00m\u001b[38;5;124m() only accepts keyword arguments.\u001b[39m\u001b[38;5;124m\"\u001b[39m\n\u001b[1;32m    567\u001b[0m     )\n\u001b[1;32m    568\u001b[0m \u001b[38;5;66;03m# The \"self\" in this scope is referring to the BaseClient.\u001b[39;00m\n\u001b[0;32m--> 569\u001b[0m \u001b[38;5;28;01mreturn\u001b[39;00m \u001b[38;5;28;43mself\u001b[39;49m\u001b[38;5;241;43m.\u001b[39;49m\u001b[43m_make_api_call\u001b[49m\u001b[43m(\u001b[49m\u001b[43moperation_name\u001b[49m\u001b[43m,\u001b[49m\u001b[43m \u001b[49m\u001b[43mkwargs\u001b[49m\u001b[43m)\u001b[49m\n",
      "File \u001b[0;32m~/.local/lib/python3.9/site-packages/botocore/client.py:1023\u001b[0m, in \u001b[0;36mBaseClient._make_api_call\u001b[0;34m(self, operation_name, api_params)\u001b[0m\n\u001b[1;32m   1019\u001b[0m     error_code \u001b[38;5;241m=\u001b[39m error_info\u001b[38;5;241m.\u001b[39mget(\u001b[38;5;124m\"\u001b[39m\u001b[38;5;124mQueryErrorCode\u001b[39m\u001b[38;5;124m\"\u001b[39m) \u001b[38;5;129;01mor\u001b[39;00m error_info\u001b[38;5;241m.\u001b[39mget(\n\u001b[1;32m   1020\u001b[0m         \u001b[38;5;124m\"\u001b[39m\u001b[38;5;124mCode\u001b[39m\u001b[38;5;124m\"\u001b[39m\n\u001b[1;32m   1021\u001b[0m     )\n\u001b[1;32m   1022\u001b[0m     error_class \u001b[38;5;241m=\u001b[39m \u001b[38;5;28mself\u001b[39m\u001b[38;5;241m.\u001b[39mexceptions\u001b[38;5;241m.\u001b[39mfrom_code(error_code)\n\u001b[0;32m-> 1023\u001b[0m     \u001b[38;5;28;01mraise\u001b[39;00m error_class(parsed_response, operation_name)\n\u001b[1;32m   1024\u001b[0m \u001b[38;5;28;01melse\u001b[39;00m:\n\u001b[1;32m   1025\u001b[0m     \u001b[38;5;28;01mreturn\u001b[39;00m parsed_response\n",
      "\u001b[0;31mClientError\u001b[0m: An error occurred (AccessDeniedException) when calling the ListTables operation: User: arn:aws:sts::404449475211:assumed-role/Playground1Stack-EC2InstanceRole0BAA8CDD-gijpoD4ZOqNC/i-0599c09eb6cd71ce6 is not authorized to perform: dynamodb:ListTables on resource: arn:aws:dynamodb:us-east-1:404449475211:table/* because no identity-based policy allows the dynamodb:ListTables action"
     ]
    }
   ],
   "source": [
    "# Find the table name\n",
    "table_name = None\n",
    "response = dynamodb.list_tables()\n",
    "for tn in response['TableNames']:\n",
    "    if tn.startswith(dynamodb_table_prefix):\n",
    "        print('Found table:', tn)\n",
    "        table_name = tn\n",
    "        break\n",
    "\n",
    "if table_name is None:\n",
    "    raise Exception('Table not found')"
   ]
  },
  {
   "cell_type": "code",
   "execution_count": null,
   "metadata": {},
   "outputs": [],
   "source": [
    "students = [\n",
    "    {\n",
    "        'id': '1',\n",
    "        'name': 'Alice',\n",
    "        'class': 'A',\n",
    "        'score': 85\n",
    "    },\n",
    "    {\n",
    "        'id': '2',\n",
    "        'name': 'Bob',\n",
    "        'class': 'B',\n",
    "        'score': 70\n",
    "    },\n",
    "    {\n",
    "        'id': '3',\n",
    "        'name': 'Charlie',\n",
    "        'class': 'A',\n",
    "        'score': 60\n",
    "    },\n",
    "    {\n",
    "        'id': '4',\n",
    "        'name': 'David',\n",
    "        'class': 'B',\n",
    "        'score': 90\n",
    "    },\n",
    "    {\n",
    "        'id': '5',\n",
    "        'name': 'Eve',\n",
    "        'class': 'A',\n",
    "        'score': 95\n",
    "    }\n",
    "]"
   ]
  },
  {
   "cell_type": "code",
   "execution_count": null,
   "metadata": {},
   "outputs": [],
   "source": [
    "# Add items to the table\n",
    "for student in students:\n",
    "    dynamodb.put_item(\n",
    "        TableName=table_name,\n",
    "        Item={\n",
    "            'id': {'S': student['id']},\n",
    "            'name': {'S': student['name']},\n",
    "            'class': {'S': student['class']},\n",
    "            'score': {'N': str(student['score'])}\n",
    "        }\n",
    "    )\n",
    "\n",
    "# Scan the table to list elements with score <= 70\n",
    "response = dynamodb.scan(\n",
    "    TableName=table_name,\n",
    "    FilterExpression='score <= :score',\n",
    "    ExpressionAttributeValues={':score': {'N': '70'}}\n",
    ")\n",
    "\n",
    "for item in response['Items']:\n",
    "    print(item)"
   ]
  }
 ],
 "metadata": {
  "kernelspec": {
   "display_name": "Python 3 (ipykernel)",
   "language": "python",
   "name": "python3"
  }
 },
 "nbformat": 4,
 "nbformat_minor": 2
}
